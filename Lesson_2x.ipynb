{
 "cells": [
  {
   "cell_type": "markdown",
   "metadata": {
    "id": "sxKCIcdgk1_N"
   },
   "source": [
    "## **Lesson 2:** A simple example of data analysis on Codespace\n",
    "Congratulations team. Our commercial team has landed a potential customer, the City of Chicago, and they want us to analyze the crime data in the city. They have provided a dataset, and they want us to showcase our skills by giving a sneak peek of what we can understand from the data. As this is our first assignment, the management want everybody to take the task and create a repository with the code for the analysis.\n",
    "\n",
    "### **Section 1:** Basic commands on the terminal\n",
    "\n",
    "To make our work reproducible, we need an isolated environment to run our scripts. In Google Colab, you get an ephemeral virtual machine (with RAM and GB), where you can create notebooks and run scripts and even terminal commands. In Codespaces, you can spin up an ephemeral virtual machine (with RAM and GB) where you can sync your files with the repository. Let's learn some basic commands."
   ]
  },
  {
   "cell_type": "code",
   "execution_count": 1,
   "metadata": {
    "id": "vYkzM0LXl5rd"
   },
   "outputs": [
    {
     "name": "stdout",
     "output_type": "stream",
     "text": [
      "Python 3.12.1\n"
     ]
    }
   ],
   "source": [
    "# View python version\n",
    "!python --version"
   ]
  },
  {
   "cell_type": "code",
   "execution_count": 2,
   "metadata": {
    "id": "GtZcSy5kkD90"
   },
   "outputs": [
    {
     "name": "stdout",
     "output_type": "stream",
     "text": [
      "asttokens==2.4.1\n",
      "attrs==24.2.0\n",
      "comm==0.2.2\n",
      "contourpy==1.3.0\n",
      "cycler==0.12.1\n",
      "debugpy==1.8.7\n",
      "decorator==5.1.1\n",
      "executing==2.1.0\n",
      "fastjsonschema==2.20.0\n",
      "fonttools==4.54.1\n",
      "ipykernel==6.29.5\n",
      "ipython==8.29.0\n",
      "jedi==0.19.1\n",
      "jsonschema==4.23.0\n",
      "jsonschema-specifications==2024.10.1\n",
      "jupyter_client==8.6.3\n",
      "jupyter_core==5.7.2\n",
      "kiwisolver==1.4.7\n",
      "matplotlib==3.9.2\n",
      "matplotlib-inline==0.1.7\n",
      "nbformat==5.10.4\n",
      "nest-asyncio==1.6.0\n",
      "numpy==2.1.2\n",
      "packaging==24.1\n",
      "pandas==2.2.3\n",
      "parso==0.8.4\n",
      "pexpect==4.9.0\n",
      "pillow==11.0.0\n",
      "platformdirs==4.3.6\n",
      "prompt_toolkit==3.0.48\n",
      "psutil==6.1.0\n",
      "ptyprocess==0.7.0\n",
      "pure_eval==0.2.3\n",
      "Pygments==2.18.0\n",
      "pyparsing==3.2.0\n",
      "python-dateutil==2.9.0.post0\n",
      "pytz==2024.2\n",
      "pyzmq==26.2.0\n",
      "referencing==0.35.1\n",
      "rpds-py==0.20.0\n",
      "six==1.16.0\n",
      "stack-data==0.6.3\n",
      "tornado==6.4.1\n",
      "traitlets==5.14.3\n",
      "tzdata==2024.2\n",
      "wcwidth==0.2.13\n"
     ]
    }
   ],
   "source": [
    "# List installed packages\n",
    "!pip freeze"
   ]
  },
  {
   "cell_type": "code",
   "execution_count": 3,
   "metadata": {
    "id": "SKtTyegumR_V"
   },
   "outputs": [
    {
     "name": "stdout",
     "output_type": "stream",
     "text": [
      "/workspaces/crimenes_chicago\n"
     ]
    }
   ],
   "source": [
    "# View current directory\n",
    "!pwd"
   ]
  },
  {
   "cell_type": "code",
   "execution_count": 4,
   "metadata": {
    "id": "uftQ3Yv-mLCY"
   },
   "outputs": [
    {
     "name": "stdout",
     "output_type": "stream",
     "text": [
      "Lesson_2x.ipynb  README.md  data_crimes.csv  files.txt\n"
     ]
    }
   ],
   "source": [
    "# View current files\n",
    "!ls"
   ]
  },
  {
   "cell_type": "code",
   "execution_count": 5,
   "metadata": {
    "id": "1IH4APiacnWV"
   },
   "outputs": [],
   "source": [
    "# Create a file\n",
    "!touch files.txt"
   ]
  },
  {
   "cell_type": "code",
   "execution_count": 6,
   "metadata": {
    "id": "UKISVCPMcu9S"
   },
   "outputs": [],
   "source": [
    "# Add the file and then commit into the local repo"
   ]
  },
  {
   "cell_type": "code",
   "execution_count": 7,
   "metadata": {
    "id": "K87eUci7c4RE"
   },
   "outputs": [],
   "source": [
    "# Push the file into the remote repo"
   ]
  },
  {
   "cell_type": "markdown",
   "metadata": {
    "id": "dnWi9xeenTpG"
   },
   "source": [
    "### **Section 2:** Let's dive into reading data\n",
    "\n",
    "Download the following file from this url: https://data.cityofchicago.org/api/views/qnmj-8ku6/rows.csv?accessType=DOWNLOAD\n",
    "\n",
    "It has records from the Crimes - 2001 to Present dataset for the 2014 year[1].\n",
    "\n",
    "Please, answer the following questions:\n",
    "1. How many crimes were reported in 2014?\n",
    "2. How many crimes were reported in December 2014?\n",
    "3. What are the top 5 crimes?\n",
    "4. Which day has the most and less crimes?\n",
    "5. Is there a trend in the crimes commited?"
   ]
  },
  {
   "cell_type": "code",
   "execution_count": 8,
   "metadata": {
    "id": "qFO8sTAXdvUC"
   },
   "outputs": [
    {
     "name": "stdout",
     "output_type": "stream",
     "text": [
      "  % Total    % Received % Xferd  Average Speed   Time    Time     Time  Current\n",
      "                                 Dload  Upload   Total   Spent    Left  Speed\n",
      "100 62.3M    0 62.3M    0     0  1512k      0 --:--:--  0:00:42 --:--:-- 1675k\n"
     ]
    }
   ],
   "source": [
    "# Download the file using the terminal\n",
    "!curl -o data_crimes.csv https://data.cityofchicago.org/api/views/qnmj-8ku6/rows.csv?accessType=DOWNLOAD"
   ]
  },
  {
   "cell_type": "code",
   "execution_count": 9,
   "metadata": {
    "id": "TBNn-6OboNl4"
   },
   "outputs": [],
   "source": [
    "# Step 0. Load libraries and custom functions\n",
    "import pandas as pd\n",
    "import numpy as np\n",
    "import matplotlib.pyplot as plt"
   ]
  },
  {
   "cell_type": "code",
   "execution_count": 10,
   "metadata": {
    "id": "KJqXT1BfopU2"
   },
   "outputs": [],
   "source": [
    "# Step 1. Read data and get a quick view\n",
    "# 1.1 Read the dataset\n",
    "df_raw=pd.read_csv(\"data_crimes.csv\")"
   ]
  },
  {
   "cell_type": "code",
   "execution_count": 11,
   "metadata": {
    "id": "B7h16x52p3CO"
   },
   "outputs": [
    {
     "data": {
      "text/html": [
       "<div>\n",
       "<style scoped>\n",
       "    .dataframe tbody tr th:only-of-type {\n",
       "        vertical-align: middle;\n",
       "    }\n",
       "\n",
       "    .dataframe tbody tr th {\n",
       "        vertical-align: top;\n",
       "    }\n",
       "\n",
       "    .dataframe thead th {\n",
       "        text-align: right;\n",
       "    }\n",
       "</style>\n",
       "<table border=\"1\" class=\"dataframe\">\n",
       "  <thead>\n",
       "    <tr style=\"text-align: right;\">\n",
       "      <th></th>\n",
       "      <th>ID</th>\n",
       "      <th>Case Number</th>\n",
       "      <th>Date</th>\n",
       "      <th>Block</th>\n",
       "      <th>IUCR</th>\n",
       "      <th>Primary Type</th>\n",
       "      <th>Description</th>\n",
       "      <th>Location Description</th>\n",
       "      <th>Arrest</th>\n",
       "      <th>Domestic</th>\n",
       "      <th>...</th>\n",
       "      <th>Ward</th>\n",
       "      <th>Community Area</th>\n",
       "      <th>FBI Code</th>\n",
       "      <th>X Coordinate</th>\n",
       "      <th>Y Coordinate</th>\n",
       "      <th>Year</th>\n",
       "      <th>Updated On</th>\n",
       "      <th>Latitude</th>\n",
       "      <th>Longitude</th>\n",
       "      <th>Location</th>\n",
       "    </tr>\n",
       "  </thead>\n",
       "  <tbody>\n",
       "    <tr>\n",
       "      <th>237196</th>\n",
       "      <td>9899480</td>\n",
       "      <td>HX549955</td>\n",
       "      <td>12/20/2014 08:00:00 AM</td>\n",
       "      <td>044XX S FAIRFIELD AVE</td>\n",
       "      <td>0820</td>\n",
       "      <td>THEFT</td>\n",
       "      <td>$500 AND UNDER</td>\n",
       "      <td>STREET</td>\n",
       "      <td>False</td>\n",
       "      <td>False</td>\n",
       "      <td>...</td>\n",
       "      <td>12.0</td>\n",
       "      <td>58</td>\n",
       "      <td>06</td>\n",
       "      <td>1158778.0</td>\n",
       "      <td>1875017.0</td>\n",
       "      <td>2014</td>\n",
       "      <td>02/10/2018 03:50:01 PM</td>\n",
       "      <td>41.812779</td>\n",
       "      <td>-87.693119</td>\n",
       "      <td>(41.812778613, -87.693118953)</td>\n",
       "    </tr>\n",
       "    <tr>\n",
       "      <th>274028</th>\n",
       "      <td>10312412</td>\n",
       "      <td>HY501192</td>\n",
       "      <td>10/01/2014 12:01:00 AM</td>\n",
       "      <td>014XX W ALBION AVE</td>\n",
       "      <td>1153</td>\n",
       "      <td>DECEPTIVE PRACTICE</td>\n",
       "      <td>FINANCIAL IDENTITY THEFT OVER $ 300</td>\n",
       "      <td>OTHER</td>\n",
       "      <td>False</td>\n",
       "      <td>False</td>\n",
       "      <td>...</td>\n",
       "      <td>40.0</td>\n",
       "      <td>1</td>\n",
       "      <td>11</td>\n",
       "      <td>1165606.0</td>\n",
       "      <td>1943949.0</td>\n",
       "      <td>2014</td>\n",
       "      <td>02/10/2018 03:50:01 PM</td>\n",
       "      <td>42.001790</td>\n",
       "      <td>-87.666107</td>\n",
       "      <td>(42.001790316, -87.666106904)</td>\n",
       "    </tr>\n",
       "    <tr>\n",
       "      <th>74872</th>\n",
       "      <td>9463599</td>\n",
       "      <td>HX116338</td>\n",
       "      <td>01/15/2014 10:00:00 PM</td>\n",
       "      <td>092XX S COTTAGE GROVE AVE</td>\n",
       "      <td>0820</td>\n",
       "      <td>THEFT</td>\n",
       "      <td>$500 AND UNDER</td>\n",
       "      <td>STREET</td>\n",
       "      <td>False</td>\n",
       "      <td>False</td>\n",
       "      <td>...</td>\n",
       "      <td>9.0</td>\n",
       "      <td>44</td>\n",
       "      <td>06</td>\n",
       "      <td>1183173.0</td>\n",
       "      <td>1844063.0</td>\n",
       "      <td>2014</td>\n",
       "      <td>02/04/2016 06:33:39 AM</td>\n",
       "      <td>41.727304</td>\n",
       "      <td>-87.604600</td>\n",
       "      <td>(41.727304299, -87.604600275)</td>\n",
       "    </tr>\n",
       "    <tr>\n",
       "      <th>75347</th>\n",
       "      <td>9663585</td>\n",
       "      <td>HX311595</td>\n",
       "      <td>06/20/2014 11:00:00 AM</td>\n",
       "      <td>017XX W MONROE ST</td>\n",
       "      <td>0820</td>\n",
       "      <td>THEFT</td>\n",
       "      <td>$500 AND UNDER</td>\n",
       "      <td>STREET</td>\n",
       "      <td>False</td>\n",
       "      <td>False</td>\n",
       "      <td>...</td>\n",
       "      <td>27.0</td>\n",
       "      <td>28</td>\n",
       "      <td>06</td>\n",
       "      <td>1165034.0</td>\n",
       "      <td>1899606.0</td>\n",
       "      <td>2014</td>\n",
       "      <td>02/10/2018 03:50:01 PM</td>\n",
       "      <td>41.880123</td>\n",
       "      <td>-87.669475</td>\n",
       "      <td>(41.880123043, -87.669474562)</td>\n",
       "    </tr>\n",
       "    <tr>\n",
       "      <th>124049</th>\n",
       "      <td>9631038</td>\n",
       "      <td>HX281894</td>\n",
       "      <td>05/29/2014 11:00:00 PM</td>\n",
       "      <td>005XX W ROOSEVELT RD</td>\n",
       "      <td>0460</td>\n",
       "      <td>BATTERY</td>\n",
       "      <td>SIMPLE</td>\n",
       "      <td>SMALL RETAIL STORE</td>\n",
       "      <td>False</td>\n",
       "      <td>False</td>\n",
       "      <td>...</td>\n",
       "      <td>2.0</td>\n",
       "      <td>28</td>\n",
       "      <td>08B</td>\n",
       "      <td>1173209.0</td>\n",
       "      <td>1894980.0</td>\n",
       "      <td>2014</td>\n",
       "      <td>02/10/2018 03:50:01 PM</td>\n",
       "      <td>41.867252</td>\n",
       "      <td>-87.639594</td>\n",
       "      <td>(41.867251542, -87.639594427)</td>\n",
       "    </tr>\n",
       "    <tr>\n",
       "      <th>50479</th>\n",
       "      <td>9499500</td>\n",
       "      <td>HX154596</td>\n",
       "      <td>02/17/2014 04:00:00 PM</td>\n",
       "      <td>048XX N FRANCISCO AVE</td>\n",
       "      <td>0530</td>\n",
       "      <td>ASSAULT</td>\n",
       "      <td>AGGRAVATED: OTHER DANG WEAPON</td>\n",
       "      <td>OTHER</td>\n",
       "      <td>False</td>\n",
       "      <td>False</td>\n",
       "      <td>...</td>\n",
       "      <td>40.0</td>\n",
       "      <td>4</td>\n",
       "      <td>04A</td>\n",
       "      <td>1156348.0</td>\n",
       "      <td>1932071.0</td>\n",
       "      <td>2014</td>\n",
       "      <td>02/04/2016 06:33:39 AM</td>\n",
       "      <td>41.969389</td>\n",
       "      <td>-87.700489</td>\n",
       "      <td>(41.96938944, -87.700488807)</td>\n",
       "    </tr>\n",
       "    <tr>\n",
       "      <th>172669</th>\n",
       "      <td>9900703</td>\n",
       "      <td>HX551280</td>\n",
       "      <td>12/20/2014 01:00:00 PM</td>\n",
       "      <td>083XX S STEWART AVE</td>\n",
       "      <td>0820</td>\n",
       "      <td>THEFT</td>\n",
       "      <td>$500 AND UNDER</td>\n",
       "      <td>DEPARTMENT STORE</td>\n",
       "      <td>False</td>\n",
       "      <td>False</td>\n",
       "      <td>...</td>\n",
       "      <td>21.0</td>\n",
       "      <td>44</td>\n",
       "      <td>06</td>\n",
       "      <td>1175078.0</td>\n",
       "      <td>1849610.0</td>\n",
       "      <td>2014</td>\n",
       "      <td>02/10/2018 03:50:01 PM</td>\n",
       "      <td>41.742710</td>\n",
       "      <td>-87.634088</td>\n",
       "      <td>(41.742710224, -87.634088181)</td>\n",
       "    </tr>\n",
       "    <tr>\n",
       "      <th>62876</th>\n",
       "      <td>9510716</td>\n",
       "      <td>HX165801</td>\n",
       "      <td>02/26/2014 09:00:00 PM</td>\n",
       "      <td>064XX W IRVING PARK RD</td>\n",
       "      <td>0860</td>\n",
       "      <td>THEFT</td>\n",
       "      <td>RETAIL THEFT</td>\n",
       "      <td>SMALL RETAIL STORE</td>\n",
       "      <td>True</td>\n",
       "      <td>False</td>\n",
       "      <td>...</td>\n",
       "      <td>38.0</td>\n",
       "      <td>17</td>\n",
       "      <td>06</td>\n",
       "      <td>1132626.0</td>\n",
       "      <td>1925898.0</td>\n",
       "      <td>2014</td>\n",
       "      <td>02/04/2016 06:33:39 AM</td>\n",
       "      <td>41.952898</td>\n",
       "      <td>-87.787861</td>\n",
       "      <td>(41.952897791, -87.787860507)</td>\n",
       "    </tr>\n",
       "    <tr>\n",
       "      <th>244001</th>\n",
       "      <td>9720720</td>\n",
       "      <td>HX370507</td>\n",
       "      <td>08/02/2014 04:18:00 AM</td>\n",
       "      <td>001XX N CICERO AVE</td>\n",
       "      <td>502R</td>\n",
       "      <td>OTHER OFFENSE</td>\n",
       "      <td>VEHICLE TITLE/REG OFFENSE</td>\n",
       "      <td>STREET</td>\n",
       "      <td>True</td>\n",
       "      <td>False</td>\n",
       "      <td>...</td>\n",
       "      <td>28.0</td>\n",
       "      <td>25</td>\n",
       "      <td>26</td>\n",
       "      <td>1144365.0</td>\n",
       "      <td>1900264.0</td>\n",
       "      <td>2014</td>\n",
       "      <td>02/10/2018 03:50:01 PM</td>\n",
       "      <td>41.882342</td>\n",
       "      <td>-87.745353</td>\n",
       "      <td>(41.88234232, -87.745352749)</td>\n",
       "    </tr>\n",
       "    <tr>\n",
       "      <th>39723</th>\n",
       "      <td>9633498</td>\n",
       "      <td>HX284772</td>\n",
       "      <td>06/01/2014 01:20:00 AM</td>\n",
       "      <td>017XX W GRAND AVE</td>\n",
       "      <td>1305</td>\n",
       "      <td>CRIMINAL DAMAGE</td>\n",
       "      <td>CRIMINAL DEFACEMENT</td>\n",
       "      <td>PARKING LOT/GARAGE(NON.RESID.)</td>\n",
       "      <td>True</td>\n",
       "      <td>False</td>\n",
       "      <td>...</td>\n",
       "      <td>26.0</td>\n",
       "      <td>24</td>\n",
       "      <td>14</td>\n",
       "      <td>1164460.0</td>\n",
       "      <td>1903534.0</td>\n",
       "      <td>2014</td>\n",
       "      <td>02/10/2018 03:50:01 PM</td>\n",
       "      <td>41.890914</td>\n",
       "      <td>-87.671471</td>\n",
       "      <td>(41.890913953, -87.671470975)</td>\n",
       "    </tr>\n",
       "  </tbody>\n",
       "</table>\n",
       "<p>10 rows × 22 columns</p>\n",
       "</div>"
      ],
      "text/plain": [
       "              ID Case Number                    Date  \\\n",
       "237196   9899480    HX549955  12/20/2014 08:00:00 AM   \n",
       "274028  10312412    HY501192  10/01/2014 12:01:00 AM   \n",
       "74872    9463599    HX116338  01/15/2014 10:00:00 PM   \n",
       "75347    9663585    HX311595  06/20/2014 11:00:00 AM   \n",
       "124049   9631038    HX281894  05/29/2014 11:00:00 PM   \n",
       "50479    9499500    HX154596  02/17/2014 04:00:00 PM   \n",
       "172669   9900703    HX551280  12/20/2014 01:00:00 PM   \n",
       "62876    9510716    HX165801  02/26/2014 09:00:00 PM   \n",
       "244001   9720720    HX370507  08/02/2014 04:18:00 AM   \n",
       "39723    9633498    HX284772  06/01/2014 01:20:00 AM   \n",
       "\n",
       "                            Block  IUCR        Primary Type  \\\n",
       "237196      044XX S FAIRFIELD AVE  0820               THEFT   \n",
       "274028         014XX W ALBION AVE  1153  DECEPTIVE PRACTICE   \n",
       "74872   092XX S COTTAGE GROVE AVE  0820               THEFT   \n",
       "75347           017XX W MONROE ST  0820               THEFT   \n",
       "124049       005XX W ROOSEVELT RD  0460             BATTERY   \n",
       "50479       048XX N FRANCISCO AVE  0530             ASSAULT   \n",
       "172669        083XX S STEWART AVE  0820               THEFT   \n",
       "62876      064XX W IRVING PARK RD  0860               THEFT   \n",
       "244001         001XX N CICERO AVE  502R       OTHER OFFENSE   \n",
       "39723           017XX W GRAND AVE  1305     CRIMINAL DAMAGE   \n",
       "\n",
       "                                Description            Location Description  \\\n",
       "237196                       $500 AND UNDER                          STREET   \n",
       "274028  FINANCIAL IDENTITY THEFT OVER $ 300                           OTHER   \n",
       "74872                        $500 AND UNDER                          STREET   \n",
       "75347                        $500 AND UNDER                          STREET   \n",
       "124049                               SIMPLE              SMALL RETAIL STORE   \n",
       "50479         AGGRAVATED: OTHER DANG WEAPON                           OTHER   \n",
       "172669                       $500 AND UNDER                DEPARTMENT STORE   \n",
       "62876                          RETAIL THEFT              SMALL RETAIL STORE   \n",
       "244001            VEHICLE TITLE/REG OFFENSE                          STREET   \n",
       "39723                   CRIMINAL DEFACEMENT  PARKING LOT/GARAGE(NON.RESID.)   \n",
       "\n",
       "        Arrest  Domestic  ...  Ward  Community Area  FBI Code  X Coordinate  \\\n",
       "237196   False     False  ...  12.0              58        06     1158778.0   \n",
       "274028   False     False  ...  40.0               1        11     1165606.0   \n",
       "74872    False     False  ...   9.0              44        06     1183173.0   \n",
       "75347    False     False  ...  27.0              28        06     1165034.0   \n",
       "124049   False     False  ...   2.0              28       08B     1173209.0   \n",
       "50479    False     False  ...  40.0               4       04A     1156348.0   \n",
       "172669   False     False  ...  21.0              44        06     1175078.0   \n",
       "62876     True     False  ...  38.0              17        06     1132626.0   \n",
       "244001    True     False  ...  28.0              25        26     1144365.0   \n",
       "39723     True     False  ...  26.0              24        14     1164460.0   \n",
       "\n",
       "       Y Coordinate  Year              Updated On   Latitude  Longitude  \\\n",
       "237196    1875017.0  2014  02/10/2018 03:50:01 PM  41.812779 -87.693119   \n",
       "274028    1943949.0  2014  02/10/2018 03:50:01 PM  42.001790 -87.666107   \n",
       "74872     1844063.0  2014  02/04/2016 06:33:39 AM  41.727304 -87.604600   \n",
       "75347     1899606.0  2014  02/10/2018 03:50:01 PM  41.880123 -87.669475   \n",
       "124049    1894980.0  2014  02/10/2018 03:50:01 PM  41.867252 -87.639594   \n",
       "50479     1932071.0  2014  02/04/2016 06:33:39 AM  41.969389 -87.700489   \n",
       "172669    1849610.0  2014  02/10/2018 03:50:01 PM  41.742710 -87.634088   \n",
       "62876     1925898.0  2014  02/04/2016 06:33:39 AM  41.952898 -87.787861   \n",
       "244001    1900264.0  2014  02/10/2018 03:50:01 PM  41.882342 -87.745353   \n",
       "39723     1903534.0  2014  02/10/2018 03:50:01 PM  41.890914 -87.671471   \n",
       "\n",
       "                             Location  \n",
       "237196  (41.812778613, -87.693118953)  \n",
       "274028  (42.001790316, -87.666106904)  \n",
       "74872   (41.727304299, -87.604600275)  \n",
       "75347   (41.880123043, -87.669474562)  \n",
       "124049  (41.867251542, -87.639594427)  \n",
       "50479    (41.96938944, -87.700488807)  \n",
       "172669  (41.742710224, -87.634088181)  \n",
       "62876   (41.952897791, -87.787860507)  \n",
       "244001   (41.88234232, -87.745352749)  \n",
       "39723   (41.890913953, -87.671470975)  \n",
       "\n",
       "[10 rows x 22 columns]"
      ]
     },
     "execution_count": 11,
     "metadata": {},
     "output_type": "execute_result"
    }
   ],
   "source": [
    "# 1.2 Get a view\n",
    "df_raw.sample(10)"
   ]
  },
  {
   "cell_type": "code",
   "execution_count": 12,
   "metadata": {
    "id": "RpneURMpqI_Q"
   },
   "outputs": [
    {
     "name": "stdout",
     "output_type": "stream",
     "text": [
      "<class 'pandas.core.frame.DataFrame'>\n",
      "RangeIndex: 275854 entries, 0 to 275853\n",
      "Data columns (total 22 columns):\n",
      " #   Column                Non-Null Count   Dtype  \n",
      "---  ------                --------------   -----  \n",
      " 0   ID                    275854 non-null  int64  \n",
      " 1   Case Number           275854 non-null  object \n",
      " 2   Date                  275854 non-null  object \n",
      " 3   Block                 275854 non-null  object \n",
      " 4   IUCR                  275854 non-null  object \n",
      " 5   Primary Type          275854 non-null  object \n",
      " 6   Description           275854 non-null  object \n",
      " 7   Location Description  275443 non-null  object \n",
      " 8   Arrest                275854 non-null  bool   \n",
      " 9   Domestic              275854 non-null  bool   \n",
      " 10  Beat                  275854 non-null  int64  \n",
      " 11  District              275854 non-null  int64  \n",
      " 12  Ward                  275852 non-null  float64\n",
      " 13  Community Area        275854 non-null  int64  \n",
      " 14  FBI Code              275854 non-null  object \n",
      " 15  X Coordinate          273779 non-null  float64\n",
      " 16  Y Coordinate          273779 non-null  float64\n",
      " 17  Year                  275854 non-null  int64  \n",
      " 18  Updated On            275854 non-null  object \n",
      " 19  Latitude              273779 non-null  float64\n",
      " 20  Longitude             273779 non-null  float64\n",
      " 21  Location              273779 non-null  object \n",
      "dtypes: bool(2), float64(5), int64(5), object(10)\n",
      "memory usage: 42.6+ MB\n"
     ]
    }
   ],
   "source": [
    "# 1.3 Get info\n",
    "df_raw.info()"
   ]
  },
  {
   "cell_type": "code",
   "execution_count": 13,
   "metadata": {
    "id": "Qo1fhRbRtHFQ"
   },
   "outputs": [
    {
     "name": "stderr",
     "output_type": "stream",
     "text": [
      "/tmp/ipykernel_2939/722544445.py:3: UserWarning: Could not infer format, so each element will be parsed individually, falling back to `dateutil`. To ensure parsing is consistent and as-expected, please specify a format.\n",
      "  df['Date'] = pd.to_datetime(df['Date'])\n",
      "/tmp/ipykernel_2939/722544445.py:4: UserWarning: Could not infer format, so each element will be parsed individually, falling back to `dateutil`. To ensure parsing is consistent and as-expected, please specify a format.\n",
      "  df['Updated On'] = pd.to_datetime(df['Updated On'])\n"
     ]
    }
   ],
   "source": [
    "# 1.4 Let's make some transformations\n",
    "df=df_raw.copy()\n",
    "df['Date'] = pd.to_datetime(df['Date'])\n",
    "df['Updated On'] = pd.to_datetime(df['Updated On'])"
   ]
  },
  {
   "cell_type": "code",
   "execution_count": 14,
   "metadata": {
    "id": "8VCYPSyeu66q"
   },
   "outputs": [
    {
     "name": "stdout",
     "output_type": "stream",
     "text": [
      "<class 'pandas.core.frame.DataFrame'>\n",
      "RangeIndex: 275854 entries, 0 to 275853\n",
      "Data columns (total 22 columns):\n",
      " #   Column                Non-Null Count   Dtype         \n",
      "---  ------                --------------   -----         \n",
      " 0   ID                    275854 non-null  int64         \n",
      " 1   Case Number           275854 non-null  object        \n",
      " 2   Date                  275854 non-null  datetime64[ns]\n",
      " 3   Block                 275854 non-null  object        \n",
      " 4   IUCR                  275854 non-null  object        \n",
      " 5   Primary Type          275854 non-null  object        \n",
      " 6   Description           275854 non-null  object        \n",
      " 7   Location Description  275443 non-null  object        \n",
      " 8   Arrest                275854 non-null  bool          \n",
      " 9   Domestic              275854 non-null  bool          \n",
      " 10  Beat                  275854 non-null  int64         \n",
      " 11  District              275854 non-null  int64         \n",
      " 12  Ward                  275852 non-null  float64       \n",
      " 13  Community Area        275854 non-null  int64         \n",
      " 14  FBI Code              275854 non-null  object        \n",
      " 15  X Coordinate          273779 non-null  float64       \n",
      " 16  Y Coordinate          273779 non-null  float64       \n",
      " 17  Year                  275854 non-null  int64         \n",
      " 18  Updated On            275854 non-null  datetime64[ns]\n",
      " 19  Latitude              273779 non-null  float64       \n",
      " 20  Longitude             273779 non-null  float64       \n",
      " 21  Location              273779 non-null  object        \n",
      "dtypes: bool(2), datetime64[ns](2), float64(5), int64(5), object(8)\n",
      "memory usage: 42.6+ MB\n"
     ]
    }
   ],
   "source": [
    "# 1.4.1 Visualize the transformations\n",
    "df.info()"
   ]
  },
  {
   "cell_type": "code",
   "execution_count": 15,
   "metadata": {
    "id": "YbKDW0kJxiwG"
   },
   "outputs": [],
   "source": [
    "# 1.5 How many single values are in our categorical variables?\n",
    "my_list = ['Block', 'Primary Type', 'Description', 'FBI Code', 'Community Area', 'Location Description', 'Ward', 'IUCR']\n"
   ]
  },
  {
   "cell_type": "code",
   "execution_count": 16,
   "metadata": {
    "id": "uYHXN5FSz3bB"
   },
   "outputs": [
    {
     "data": {
      "text/html": [
       "<div>\n",
       "<style scoped>\n",
       "    .dataframe tbody tr th:only-of-type {\n",
       "        vertical-align: middle;\n",
       "    }\n",
       "\n",
       "    .dataframe tbody tr th {\n",
       "        vertical-align: top;\n",
       "    }\n",
       "\n",
       "    .dataframe thead th {\n",
       "        text-align: right;\n",
       "    }\n",
       "</style>\n",
       "<table border=\"1\" class=\"dataframe\">\n",
       "  <thead>\n",
       "    <tr style=\"text-align: right;\">\n",
       "      <th></th>\n",
       "      <th>Case Number</th>\n",
       "      <th>Block</th>\n",
       "      <th>IUCR</th>\n",
       "      <th>Primary Type</th>\n",
       "      <th>Description</th>\n",
       "      <th>Location Description</th>\n",
       "      <th>Arrest</th>\n",
       "      <th>Domestic</th>\n",
       "      <th>Ward</th>\n",
       "      <th>Community Area</th>\n",
       "      <th>FBI Code</th>\n",
       "      <th>Location</th>\n",
       "    </tr>\n",
       "  </thead>\n",
       "  <tbody>\n",
       "    <tr>\n",
       "      <th>count</th>\n",
       "      <td>275854</td>\n",
       "      <td>275854</td>\n",
       "      <td>275854</td>\n",
       "      <td>275854</td>\n",
       "      <td>275854</td>\n",
       "      <td>275443</td>\n",
       "      <td>275854</td>\n",
       "      <td>275854</td>\n",
       "      <td>275852.0</td>\n",
       "      <td>275854</td>\n",
       "      <td>275854</td>\n",
       "      <td>273779</td>\n",
       "    </tr>\n",
       "    <tr>\n",
       "      <th>unique</th>\n",
       "      <td>275846</td>\n",
       "      <td>27539</td>\n",
       "      <td>329</td>\n",
       "      <td>34</td>\n",
       "      <td>333</td>\n",
       "      <td>135</td>\n",
       "      <td>2</td>\n",
       "      <td>2</td>\n",
       "      <td>50.0</td>\n",
       "      <td>77</td>\n",
       "      <td>26</td>\n",
       "      <td>138531</td>\n",
       "    </tr>\n",
       "    <tr>\n",
       "      <th>top</th>\n",
       "      <td>HX119907</td>\n",
       "      <td>001XX N STATE ST</td>\n",
       "      <td>0820</td>\n",
       "      <td>THEFT</td>\n",
       "      <td>$500 AND UNDER</td>\n",
       "      <td>STREET</td>\n",
       "      <td>False</td>\n",
       "      <td>False</td>\n",
       "      <td>28.0</td>\n",
       "      <td>25</td>\n",
       "      <td>06</td>\n",
       "      <td>(41.883500187, -87.627876698)</td>\n",
       "    </tr>\n",
       "    <tr>\n",
       "      <th>freq</th>\n",
       "      <td>2</td>\n",
       "      <td>773</td>\n",
       "      <td>28868</td>\n",
       "      <td>61568</td>\n",
       "      <td>28868</td>\n",
       "      <td>63085</td>\n",
       "      <td>196196</td>\n",
       "      <td>228331</td>\n",
       "      <td>14559.0</td>\n",
       "      <td>18821</td>\n",
       "      <td>61568</td>\n",
       "      <td>458</td>\n",
       "    </tr>\n",
       "  </tbody>\n",
       "</table>\n",
       "</div>"
      ],
      "text/plain": [
       "       Case Number             Block    IUCR Primary Type     Description  \\\n",
       "count       275854            275854  275854       275854          275854   \n",
       "unique      275846             27539     329           34             333   \n",
       "top       HX119907  001XX N STATE ST    0820        THEFT  $500 AND UNDER   \n",
       "freq             2               773   28868        61568           28868   \n",
       "\n",
       "       Location Description  Arrest Domestic      Ward  Community Area  \\\n",
       "count                275443  275854   275854  275852.0          275854   \n",
       "unique                  135       2        2      50.0              77   \n",
       "top                  STREET   False    False      28.0              25   \n",
       "freq                  63085  196196   228331   14559.0           18821   \n",
       "\n",
       "       FBI Code                       Location  \n",
       "count    275854                         273779  \n",
       "unique       26                         138531  \n",
       "top          06  (41.883500187, -87.627876698)  \n",
       "freq      61568                            458  "
      ]
     },
     "execution_count": 16,
     "metadata": {},
     "output_type": "execute_result"
    }
   ],
   "source": [
    "# 1.6 Let's create our categorical variables\n",
    "df[my_list] = df[my_list].astype('category')\n",
    "df.describe(exclude=[np.number, np.datetime64])"
   ]
  },
  {
   "cell_type": "markdown",
   "metadata": {
    "id": "zM2PKJNk42XD"
   },
   "source": [
    "Let's agree to a coding convention. We'll make our columns a single word, in lower case. For example our column `Case Number` will be `case_number`"
   ]
  },
  {
   "cell_type": "code",
   "execution_count": 17,
   "metadata": {
    "id": "m6eg6XHa40Xy"
   },
   "outputs": [
    {
     "data": {
      "text/plain": [
       "Index(['id', 'case_number', 'date', 'block', 'iucr', 'primary_type',\n",
       "       'description', 'location_description', 'arrest', 'domestic', 'beat',\n",
       "       'district', 'ward', 'community_area', 'fbi_code', 'x_coordinate',\n",
       "       'y_coordinate', 'year', 'updated_on', 'latitude', 'longitude',\n",
       "       'location'],\n",
       "      dtype='object')"
      ]
     },
     "execution_count": 17,
     "metadata": {},
     "output_type": "execute_result"
    }
   ],
   "source": [
    "# 1.7 Let's convert our columns then\n",
    "df.columns = df.columns.str.strip().str.lower().str.replace(' ','_')\n",
    "df.columns"
   ]
  },
  {
   "cell_type": "markdown",
   "metadata": {
    "id": "2elv7ngpw26U"
   },
   "source": [
    "Now let me bring a new concept to the table: Tidy Data.\n",
    "\n",
    "Tidy data is a standard way of mapping the meaning of a dataset to its structure. A dataset is messy or tidy depending on how rows, columns and tables are matched up with observations, variables and types. In tidy data:\n",
    "\n",
    "- Every column is a variable.\n",
    "\n",
    "- Every row is an observation.\n",
    "\n",
    "- Every cell is a single value.\n",
    "\n",
    "Tidy data makes it easy for an analyst or a computer to extract needed variables because it provides a standard way of structuring a dataset. Compare the different versions of the classroom data: in the messy version you need to use different strategies to extract different variables. This slows analysis and invites errors. If you consider how many data analysis operations involve all of the values in a variable (every aggregation function), you can see how important it is to extract these values in a simple, standard way. [2]"
   ]
  },
  {
   "cell_type": "code",
   "execution_count": 18,
   "metadata": {
    "id": "FpINqjmSw0OS"
   },
   "outputs": [],
   "source": [
    "# 1.8 Now let's tidy up our dataset\n",
    "df = df.drop('location', axis=1)"
   ]
  },
  {
   "cell_type": "code",
   "execution_count": 20,
   "metadata": {
    "id": "KGDrcxft-XiB"
   },
   "outputs": [
    {
     "name": "stdout",
     "output_type": "stream",
     "text": [
      "<class 'pandas.core.frame.DataFrame'>\n",
      "RangeIndex: 275854 entries, 0 to 275853\n",
      "Data columns (total 21 columns):\n",
      " #   Column                Non-Null Count   Dtype         \n",
      "---  ------                --------------   -----         \n",
      " 0   id                    275854 non-null  int64         \n",
      " 1   case_number           275854 non-null  object        \n",
      " 2   date                  275854 non-null  datetime64[ns]\n",
      " 3   block                 275854 non-null  category      \n",
      " 4   iucr                  275854 non-null  category      \n",
      " 5   primary_type          275854 non-null  category      \n",
      " 6   description           275854 non-null  category      \n",
      " 7   location_description  275443 non-null  category      \n",
      " 8   arrest                275854 non-null  bool          \n",
      " 9   domestic              275854 non-null  bool          \n",
      " 10  beat                  275854 non-null  int64         \n",
      " 11  district              275854 non-null  int64         \n",
      " 12  ward                  275852 non-null  category      \n",
      " 13  community_area        275854 non-null  category      \n",
      " 14  fbi_code              275854 non-null  category      \n",
      " 15  x_coordinate          273779 non-null  float64       \n",
      " 16  y_coordinate          273779 non-null  float64       \n",
      " 17  year                  275854 non-null  int64         \n",
      " 18  updated_on            275854 non-null  datetime64[ns]\n",
      " 19  latitude              273779 non-null  float64       \n",
      " 20  longitude             273779 non-null  float64       \n",
      "dtypes: bool(2), category(8), datetime64[ns](2), float64(4), int64(4), object(1)\n",
      "memory usage: 28.1+ MB\n"
     ]
    }
   ],
   "source": [
    "# 1.8.1 Show information of our transformed dataset\n",
    "df.info()"
   ]
  },
  {
   "cell_type": "markdown",
   "metadata": {
    "id": "9O2c9Rdg_HmX"
   },
   "source": [
    "Now we are ready to answer questions!"
   ]
  },
  {
   "cell_type": "code",
   "execution_count": 21,
   "metadata": {},
   "outputs": [
    {
     "data": {
      "text/html": [
       "<div>\n",
       "<style scoped>\n",
       "    .dataframe tbody tr th:only-of-type {\n",
       "        vertical-align: middle;\n",
       "    }\n",
       "\n",
       "    .dataframe tbody tr th {\n",
       "        vertical-align: top;\n",
       "    }\n",
       "\n",
       "    .dataframe thead th {\n",
       "        text-align: right;\n",
       "    }\n",
       "</style>\n",
       "<table border=\"1\" class=\"dataframe\">\n",
       "  <thead>\n",
       "    <tr style=\"text-align: right;\">\n",
       "      <th></th>\n",
       "      <th>id</th>\n",
       "      <th>date</th>\n",
       "      <th>beat</th>\n",
       "      <th>district</th>\n",
       "      <th>x_coordinate</th>\n",
       "      <th>y_coordinate</th>\n",
       "      <th>year</th>\n",
       "      <th>updated_on</th>\n",
       "      <th>latitude</th>\n",
       "      <th>longitude</th>\n",
       "    </tr>\n",
       "  </thead>\n",
       "  <tbody>\n",
       "    <tr>\n",
       "      <th>count</th>\n",
       "      <td>2.758540e+05</td>\n",
       "      <td>275854</td>\n",
       "      <td>275854.000000</td>\n",
       "      <td>275854.000000</td>\n",
       "      <td>2.737790e+05</td>\n",
       "      <td>2.737790e+05</td>\n",
       "      <td>275854.0</td>\n",
       "      <td>275854</td>\n",
       "      <td>273779.000000</td>\n",
       "      <td>273779.000000</td>\n",
       "    </tr>\n",
       "    <tr>\n",
       "      <th>mean</th>\n",
       "      <td>9.683655e+06</td>\n",
       "      <td>2014-07-04 18:44:01.499151872</td>\n",
       "      <td>1142.639063</td>\n",
       "      <td>11.197688</td>\n",
       "      <td>1.164356e+06</td>\n",
       "      <td>1.885349e+06</td>\n",
       "      <td>2014.0</td>\n",
       "      <td>2017-10-22 21:43:46.221736704</td>\n",
       "      <td>41.840996</td>\n",
       "      <td>-87.672406</td>\n",
       "    </tr>\n",
       "    <tr>\n",
       "      <th>min</th>\n",
       "      <td>2.121200e+04</td>\n",
       "      <td>2014-01-01 00:00:00</td>\n",
       "      <td>111.000000</td>\n",
       "      <td>1.000000</td>\n",
       "      <td>0.000000e+00</td>\n",
       "      <td>0.000000e+00</td>\n",
       "      <td>2014.0</td>\n",
       "      <td>2015-08-17 15:03:40</td>\n",
       "      <td>36.619446</td>\n",
       "      <td>-91.686566</td>\n",
       "    </tr>\n",
       "    <tr>\n",
       "      <th>25%</th>\n",
       "      <td>9.575161e+06</td>\n",
       "      <td>2014-04-12 02:00:00</td>\n",
       "      <td>612.000000</td>\n",
       "      <td>6.000000</td>\n",
       "      <td>1.152356e+06</td>\n",
       "      <td>1.858518e+06</td>\n",
       "      <td>2014.0</td>\n",
       "      <td>2018-02-10 15:50:01</td>\n",
       "      <td>41.766999</td>\n",
       "      <td>-87.716063</td>\n",
       "    </tr>\n",
       "    <tr>\n",
       "      <th>50%</th>\n",
       "      <td>9.690231e+06</td>\n",
       "      <td>2014-07-05 19:45:00</td>\n",
       "      <td>1023.000000</td>\n",
       "      <td>10.000000</td>\n",
       "      <td>1.165899e+06</td>\n",
       "      <td>1.891103e+06</td>\n",
       "      <td>2014.0</td>\n",
       "      <td>2018-02-10 15:50:01</td>\n",
       "      <td>41.856790</td>\n",
       "      <td>-87.666507</td>\n",
       "    </tr>\n",
       "    <tr>\n",
       "      <th>75%</th>\n",
       "      <td>9.803732e+06</td>\n",
       "      <td>2014-09-27 03:00:00</td>\n",
       "      <td>1651.000000</td>\n",
       "      <td>16.000000</td>\n",
       "      <td>1.176364e+06</td>\n",
       "      <td>1.908316e+06</td>\n",
       "      <td>2014.0</td>\n",
       "      <td>2018-02-10 15:50:01</td>\n",
       "      <td>41.903997</td>\n",
       "      <td>-87.628093</td>\n",
       "    </tr>\n",
       "    <tr>\n",
       "      <th>max</th>\n",
       "      <td>1.363890e+07</td>\n",
       "      <td>2014-12-31 23:58:00</td>\n",
       "      <td>2535.000000</td>\n",
       "      <td>31.000000</td>\n",
       "      <td>1.205119e+06</td>\n",
       "      <td>1.951507e+06</td>\n",
       "      <td>2014.0</td>\n",
       "      <td>2024-10-23 15:41:22</td>\n",
       "      <td>42.022537</td>\n",
       "      <td>-87.524533</td>\n",
       "    </tr>\n",
       "    <tr>\n",
       "      <th>std</th>\n",
       "      <td>4.292573e+05</td>\n",
       "      <td>NaN</td>\n",
       "      <td>688.960304</td>\n",
       "      <td>6.882167</td>\n",
       "      <td>1.729162e+04</td>\n",
       "      <td>3.231096e+04</td>\n",
       "      <td>0.0</td>\n",
       "      <td>NaN</td>\n",
       "      <td>0.088908</td>\n",
       "      <td>0.062668</td>\n",
       "    </tr>\n",
       "  </tbody>\n",
       "</table>\n",
       "</div>"
      ],
      "text/plain": [
       "                 id                           date           beat  \\\n",
       "count  2.758540e+05                         275854  275854.000000   \n",
       "mean   9.683655e+06  2014-07-04 18:44:01.499151872    1142.639063   \n",
       "min    2.121200e+04            2014-01-01 00:00:00     111.000000   \n",
       "25%    9.575161e+06            2014-04-12 02:00:00     612.000000   \n",
       "50%    9.690231e+06            2014-07-05 19:45:00    1023.000000   \n",
       "75%    9.803732e+06            2014-09-27 03:00:00    1651.000000   \n",
       "max    1.363890e+07            2014-12-31 23:58:00    2535.000000   \n",
       "std    4.292573e+05                            NaN     688.960304   \n",
       "\n",
       "            district  x_coordinate  y_coordinate      year  \\\n",
       "count  275854.000000  2.737790e+05  2.737790e+05  275854.0   \n",
       "mean       11.197688  1.164356e+06  1.885349e+06    2014.0   \n",
       "min         1.000000  0.000000e+00  0.000000e+00    2014.0   \n",
       "25%         6.000000  1.152356e+06  1.858518e+06    2014.0   \n",
       "50%        10.000000  1.165899e+06  1.891103e+06    2014.0   \n",
       "75%        16.000000  1.176364e+06  1.908316e+06    2014.0   \n",
       "max        31.000000  1.205119e+06  1.951507e+06    2014.0   \n",
       "std         6.882167  1.729162e+04  3.231096e+04       0.0   \n",
       "\n",
       "                          updated_on       latitude      longitude  \n",
       "count                         275854  273779.000000  273779.000000  \n",
       "mean   2017-10-22 21:43:46.221736704      41.840996     -87.672406  \n",
       "min              2015-08-17 15:03:40      36.619446     -91.686566  \n",
       "25%              2018-02-10 15:50:01      41.766999     -87.716063  \n",
       "50%              2018-02-10 15:50:01      41.856790     -87.666507  \n",
       "75%              2018-02-10 15:50:01      41.903997     -87.628093  \n",
       "max              2024-10-23 15:41:22      42.022537     -87.524533  \n",
       "std                              NaN       0.088908       0.062668  "
      ]
     },
     "execution_count": 21,
     "metadata": {},
     "output_type": "execute_result"
    }
   ],
   "source": [
    "df.describe()"
   ]
  },
  {
   "cell_type": "code",
   "execution_count": 33,
   "metadata": {
    "id": "iTcbeKAQ--wp"
   },
   "outputs": [
    {
     "name": "stdout",
     "output_type": "stream",
     "text": [
      "Total cases:275854\n",
      "In december 214: 20414\n"
     ]
    },
    {
     "data": {
      "image/png": "[encoded data removed]",
      "text/plain": [
       "<Figure size 640x480 with 1 Axes>"
      ]
     },
     "metadata": {},
     "output_type": "display_data"
    },
    {
     "data": {
      "image/png": "[encoded data removed]",
      "text/plain": [
       "<Figure size 640x480 with 1 Axes>"
      ]
     },
     "metadata": {},
     "output_type": "display_data"
    }
   ],
   "source": [
    "# 2. Data analysis\n",
    "# 2.1 How many crimes were reported in 2014?\n",
    "print(f'Total cases:{len(df)}')\n",
    "# 2.2 How many crimes were reported in December 2014?\n",
    "mask = (df['date']>= '2014-12-01') & (df['date']<= '2014-12-31')\n",
    "print(f'In december 214: {len(df[mask])}')\n",
    "# 2.3 What are the top 5 crimes?\n",
    "df['primary_type'].value_counts().nlargest(5)\n",
    "# 2.4 Which day has the most and less crimes?\n",
    "by_day = df['date'].groupby(df['date'].dt.dayofweek).count()\n",
    "plt.plot(by_day)\n",
    "plt.ylim([0,50000])\n",
    "plt.show()\n",
    "# 2.5 Is there a trend in the crimes commited?\n",
    "by_week = df['date'].groupby(df['date'].dt.isocalendar().week).count()\n",
    "plt.plot(by_week)\n",
    "plt.ylim([0,10000])\n",
    "plt.show()"
   ]
  },
  {
   "cell_type": "markdown",
   "metadata": {
    "id": "JZp5nO1QWTsM"
   },
   "source": [
    "## References\n",
    "[1] Chicago Data Portal. (August 27, 2024). *Crimes 2001-to date*, downloaded from https://data.cityofchicago.org/api/views/qnmj-8ku6/rows.csv?accessType=DOWNLOAD  \n",
    "[2] Hadley Wickham and Garrett Grolemund. (Aug 27. 2024). *R for Data Science*, downloaded from https://r4ds.had.co.nz/tidy-data.html"
   ]
  }
 ],
 "metadata": {
  "colab": {
   "provenance": []
  },
  "kernelspec": {
   "display_name": ".venv",
   "language": "python",
   "name": "python3"
  },
  "language_info": {
   "codemirror_mode": {
    "name": "ipython",
    "version": 3
   },
   "file_extension": ".py",
   "mimetype": "text/x-python",
   "name": "python",
   "nbconvert_exporter": "python",
   "pygments_lexer": "ipython3",
   "version": "3.12.1"
  }
 },
 "nbformat": 4,
 "nbformat_minor": 0
}
